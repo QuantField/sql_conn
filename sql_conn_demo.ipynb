{
 "cells": [
  {
   "cell_type": "code",
   "execution_count": 34,
   "metadata": {},
   "outputs": [],
   "source": [
    "from sql_conn import *\n"
   ]
  },
  {
   "cell_type": "code",
   "execution_count": 35,
   "metadata": {
    "tags": []
   },
   "outputs": [],
   "source": [
    "sc = SqlConn()"
   ]
  },
  {
   "cell_type": "code",
   "execution_count": 31,
   "metadata": {},
   "outputs": [
    {
     "output_type": "execute_result",
     "data": {
      "text/plain": "  CURRENT_TIME CURRENT_DATE    CURRENT_TIMESTAMP\n0     22:33:42   2020-09-29  2020-09-29 22:33:42",
      "text/html": "<div>\n<style scoped>\n    .dataframe tbody tr th:only-of-type {\n        vertical-align: middle;\n    }\n\n    .dataframe tbody tr th {\n        vertical-align: top;\n    }\n\n    .dataframe thead th {\n        text-align: right;\n    }\n</style>\n<table border=\"1\" class=\"dataframe\">\n  <thead>\n    <tr style=\"text-align: right;\">\n      <th></th>\n      <th>CURRENT_TIME</th>\n      <th>CURRENT_DATE</th>\n      <th>CURRENT_TIMESTAMP</th>\n    </tr>\n  </thead>\n  <tbody>\n    <tr>\n      <th>0</th>\n      <td>22:33:42</td>\n      <td>2020-09-29</td>\n      <td>2020-09-29 22:33:42</td>\n    </tr>\n  </tbody>\n</table>\n</div>"
     },
     "metadata": {},
     "execution_count": 31
    }
   ],
   "source": [
    "sc.query(\"\"\"\n",
    "        select CURRENT_TIME, CURRENT_DATE, CURRENT_TIMESTAMP\n",
    "\"\"\")"
   ]
  },
  {
   "cell_type": "code",
   "execution_count": 5,
   "metadata": {},
   "outputs": [
    {
     "output_type": "execute_result",
     "data": {
      "text/plain": "  date('2018-12-01')\n0         2018-12-01",
      "text/html": "<div>\n<style scoped>\n    .dataframe tbody tr th:only-of-type {\n        vertical-align: middle;\n    }\n\n    .dataframe tbody tr th {\n        vertical-align: top;\n    }\n\n    .dataframe thead th {\n        text-align: right;\n    }\n</style>\n<table border=\"1\" class=\"dataframe\">\n  <thead>\n    <tr style=\"text-align: right;\">\n      <th></th>\n      <th>date('2018-12-01')</th>\n    </tr>\n  </thead>\n  <tbody>\n    <tr>\n      <th>0</th>\n      <td>2018-12-01</td>\n    </tr>\n  </tbody>\n</table>\n</div>"
     },
     "metadata": {},
     "execution_count": 5
    }
   ],
   "source": [
    "sc.query(\"\"\"\n",
    "        select date('2018-12-01')\n",
    "\"\"\")"
   ]
  },
  {
   "cell_type": "code",
   "execution_count": 26,
   "metadata": {
    "tags": []
   },
   "outputs": [],
   "source": [
    "df = pd.read_pickle(\"data/AlleghenyCountyPropertySaleTransactions.pkl\", compression='bz2')\n"
   ]
  },
  {
   "cell_type": "code",
   "execution_count": 36,
   "metadata": {},
   "outputs": [],
   "source": [
    "sc.upload(df,\"property_sale\")\n"
   ]
  },
  {
   "cell_type": "code",
   "execution_count": 37,
   "metadata": {},
   "outputs": [
    {
     "output_type": "execute_result",
     "data": {
      "text/plain": "    PROPERTYCITY   cnt\n0           None     1\n1   ALLISON PARK  4635\n2       AMBRIDGE   220\n3      ASPINWALL     2\n4          BADEN   191\n..           ...   ...\n94     WEST VIEW     1\n95       WEXFORD  6056\n96     WHITE OAK     1\n97    WILMERDING   492\n98       WITAKER     1\n\n[99 rows x 2 columns]",
      "text/html": "<div>\n<style scoped>\n    .dataframe tbody tr th:only-of-type {\n        vertical-align: middle;\n    }\n\n    .dataframe tbody tr th {\n        vertical-align: top;\n    }\n\n    .dataframe thead th {\n        text-align: right;\n    }\n</style>\n<table border=\"1\" class=\"dataframe\">\n  <thead>\n    <tr style=\"text-align: right;\">\n      <th></th>\n      <th>PROPERTYCITY</th>\n      <th>cnt</th>\n    </tr>\n  </thead>\n  <tbody>\n    <tr>\n      <th>0</th>\n      <td>None</td>\n      <td>1</td>\n    </tr>\n    <tr>\n      <th>1</th>\n      <td>ALLISON PARK</td>\n      <td>4635</td>\n    </tr>\n    <tr>\n      <th>2</th>\n      <td>AMBRIDGE</td>\n      <td>220</td>\n    </tr>\n    <tr>\n      <th>3</th>\n      <td>ASPINWALL</td>\n      <td>2</td>\n    </tr>\n    <tr>\n      <th>4</th>\n      <td>BADEN</td>\n      <td>191</td>\n    </tr>\n    <tr>\n      <th>...</th>\n      <td>...</td>\n      <td>...</td>\n    </tr>\n    <tr>\n      <th>94</th>\n      <td>WEST VIEW</td>\n      <td>1</td>\n    </tr>\n    <tr>\n      <th>95</th>\n      <td>WEXFORD</td>\n      <td>6056</td>\n    </tr>\n    <tr>\n      <th>96</th>\n      <td>WHITE OAK</td>\n      <td>1</td>\n    </tr>\n    <tr>\n      <th>97</th>\n      <td>WILMERDING</td>\n      <td>492</td>\n    </tr>\n    <tr>\n      <th>98</th>\n      <td>WITAKER</td>\n      <td>1</td>\n    </tr>\n  </tbody>\n</table>\n<p>99 rows × 2 columns</p>\n</div>"
     },
     "metadata": {},
     "execution_count": 37
    }
   ],
   "source": [
    "sc.query(\"\"\"select PROPERTYCITY, count(*) as cnt from property_sale  group by 1 \"\"\")"
   ]
  },
  {
   "cell_type": "code",
   "execution_count": 8,
   "metadata": {},
   "outputs": [
    {
     "output_type": "execute_result",
     "data": {
      "text/plain": "    rule attribute\n0  rule5    attri5\n1  rule2    attri1\n2  rule1    attri1\n3  rule1    attri2\n4  rule2    attri2\n5  rule1    attri1\n6  rule3    attri3\n7  rule2    attri1\n8  rule1    attri1",
      "text/html": "<div>\n<style scoped>\n    .dataframe tbody tr th:only-of-type {\n        vertical-align: middle;\n    }\n\n    .dataframe tbody tr th {\n        vertical-align: top;\n    }\n\n    .dataframe thead th {\n        text-align: right;\n    }\n</style>\n<table border=\"1\" class=\"dataframe\">\n  <thead>\n    <tr style=\"text-align: right;\">\n      <th></th>\n      <th>rule</th>\n      <th>attribute</th>\n    </tr>\n  </thead>\n  <tbody>\n    <tr>\n      <th>0</th>\n      <td>rule5</td>\n      <td>attri5</td>\n    </tr>\n    <tr>\n      <th>1</th>\n      <td>rule2</td>\n      <td>attri1</td>\n    </tr>\n    <tr>\n      <th>2</th>\n      <td>rule1</td>\n      <td>attri1</td>\n    </tr>\n    <tr>\n      <th>3</th>\n      <td>rule1</td>\n      <td>attri2</td>\n    </tr>\n    <tr>\n      <th>4</th>\n      <td>rule2</td>\n      <td>attri2</td>\n    </tr>\n    <tr>\n      <th>5</th>\n      <td>rule1</td>\n      <td>attri1</td>\n    </tr>\n    <tr>\n      <th>6</th>\n      <td>rule3</td>\n      <td>attri3</td>\n    </tr>\n    <tr>\n      <th>7</th>\n      <td>rule2</td>\n      <td>attri1</td>\n    </tr>\n    <tr>\n      <th>8</th>\n      <td>rule1</td>\n      <td>attri1</td>\n    </tr>\n  </tbody>\n</table>\n</div>"
     },
     "metadata": {},
     "execution_count": 8
    }
   ],
   "source": [
    "sc.query(\"select * from tabx\")"
   ]
  },
  {
   "cell_type": "code",
   "execution_count": 9,
   "metadata": {},
   "outputs": [
    {
     "output_type": "execute_result",
     "data": {
      "text/plain": "    rule attribute  rule_count\n0  rule1    attri1           1\n1  rule1    attri1           2\n2  rule1    attri1           3\n3  rule1    attri2           4\n4  rule2    attri1           1\n5  rule2    attri1           2\n6  rule2    attri2           3\n7  rule3    attri3           1\n8  rule5    attri5           1",
      "text/html": "<div>\n<style scoped>\n    .dataframe tbody tr th:only-of-type {\n        vertical-align: middle;\n    }\n\n    .dataframe tbody tr th {\n        vertical-align: top;\n    }\n\n    .dataframe thead th {\n        text-align: right;\n    }\n</style>\n<table border=\"1\" class=\"dataframe\">\n  <thead>\n    <tr style=\"text-align: right;\">\n      <th></th>\n      <th>rule</th>\n      <th>attribute</th>\n      <th>rule_count</th>\n    </tr>\n  </thead>\n  <tbody>\n    <tr>\n      <th>0</th>\n      <td>rule1</td>\n      <td>attri1</td>\n      <td>1</td>\n    </tr>\n    <tr>\n      <th>1</th>\n      <td>rule1</td>\n      <td>attri1</td>\n      <td>2</td>\n    </tr>\n    <tr>\n      <th>2</th>\n      <td>rule1</td>\n      <td>attri1</td>\n      <td>3</td>\n    </tr>\n    <tr>\n      <th>3</th>\n      <td>rule1</td>\n      <td>attri2</td>\n      <td>4</td>\n    </tr>\n    <tr>\n      <th>4</th>\n      <td>rule2</td>\n      <td>attri1</td>\n      <td>1</td>\n    </tr>\n    <tr>\n      <th>5</th>\n      <td>rule2</td>\n      <td>attri1</td>\n      <td>2</td>\n    </tr>\n    <tr>\n      <th>6</th>\n      <td>rule2</td>\n      <td>attri2</td>\n      <td>3</td>\n    </tr>\n    <tr>\n      <th>7</th>\n      <td>rule3</td>\n      <td>attri3</td>\n      <td>1</td>\n    </tr>\n    <tr>\n      <th>8</th>\n      <td>rule5</td>\n      <td>attri5</td>\n      <td>1</td>\n    </tr>\n  </tbody>\n</table>\n</div>"
     },
     "metadata": {},
     "execution_count": 9
    }
   ],
   "source": [
    "sc.query(\"\"\"\n",
    "        select           \n",
    "          *,\n",
    "          ROW_NUMBER () OVER ( \n",
    "          PARTITION BY rule\n",
    "          order by rule, attribute\n",
    "         )  as  rule_count          \n",
    "         \n",
    "        from tabx     \n",
    "\"\"\")          \n"
   ]
  },
  {
   "cell_type": "code",
   "execution_count": 10,
   "metadata": {},
   "outputs": [
    {
     "output_type": "execute_result",
     "data": {
      "text/plain": "    rule attribute  rule_count\n0  rule1    attri1           1\n1  rule2    attri1           1\n2  rule3    attri3           1\n3  rule5    attri5           1",
      "text/html": "<div>\n<style scoped>\n    .dataframe tbody tr th:only-of-type {\n        vertical-align: middle;\n    }\n\n    .dataframe tbody tr th {\n        vertical-align: top;\n    }\n\n    .dataframe thead th {\n        text-align: right;\n    }\n</style>\n<table border=\"1\" class=\"dataframe\">\n  <thead>\n    <tr style=\"text-align: right;\">\n      <th></th>\n      <th>rule</th>\n      <th>attribute</th>\n      <th>rule_count</th>\n    </tr>\n  </thead>\n  <tbody>\n    <tr>\n      <th>0</th>\n      <td>rule1</td>\n      <td>attri1</td>\n      <td>1</td>\n    </tr>\n    <tr>\n      <th>1</th>\n      <td>rule2</td>\n      <td>attri1</td>\n      <td>1</td>\n    </tr>\n    <tr>\n      <th>2</th>\n      <td>rule3</td>\n      <td>attri3</td>\n      <td>1</td>\n    </tr>\n    <tr>\n      <th>3</th>\n      <td>rule5</td>\n      <td>attri5</td>\n      <td>1</td>\n    </tr>\n  </tbody>\n</table>\n</div>"
     },
     "metadata": {},
     "execution_count": 10
    }
   ],
   "source": [
    "sc.query(\"\"\"\n",
    "\n",
    "      select * from\n",
    "      (\n",
    "        select           \n",
    "          *,\n",
    "          ROW_NUMBER () OVER ( \n",
    "          PARTITION BY rule\n",
    "          order by rule, attribute\n",
    "         )  as  rule_count          \n",
    "         \n",
    "        from tabx     \n",
    "      )\n",
    "      where rule_count=1\n",
    "\"\"\")          \n"
   ]
  },
  {
   "cell_type": "code",
   "execution_count": 11,
   "metadata": {
    "tags": []
   },
   "outputs": [
    {
     "output_type": "stream",
     "name": "stdout",
     "text": "database connection successfully closed\ndeleting database None...\n"
    },
    {
     "output_type": "error",
     "ename": "TypeError",
     "evalue": "remove: path should be string, bytes or os.PathLike, not NoneType",
     "traceback": [
      "\u001b[1;31m---------------------------------------------------------------------------\u001b[0m",
      "\u001b[1;31mTypeError\u001b[0m                                 Traceback (most recent call last)",
      "\u001b[1;32m<ipython-input-11-4357953d87a0>\u001b[0m in \u001b[0;36m<module>\u001b[1;34m\u001b[0m\n\u001b[1;32m----> 1\u001b[1;33m \u001b[0msc\u001b[0m\u001b[1;33m.\u001b[0m\u001b[0mquit\u001b[0m\u001b[1;33m(\u001b[0m\u001b[1;33m)\u001b[0m\u001b[1;33m\u001b[0m\u001b[1;33m\u001b[0m\u001b[0m\n\u001b[0m",
      "\u001b[1;32md:\\python_code\\sqlite_dev\\sql_conn.py\u001b[0m in \u001b[0;36mquit\u001b[1;34m(self)\u001b[0m\n\u001b[0;32m     69\u001b[0m         \u001b[1;32mif\u001b[0m \u001b[0mself\u001b[0m\u001b[1;33m.\u001b[0m\u001b[0msave_db\u001b[0m \u001b[1;32mis\u001b[0m \u001b[1;32mFalse\u001b[0m\u001b[1;33m:\u001b[0m\u001b[1;33m\u001b[0m\u001b[1;33m\u001b[0m\u001b[0m\n\u001b[0;32m     70\u001b[0m             \u001b[0mprint\u001b[0m\u001b[1;33m(\u001b[0m\u001b[1;34m\"deleting database {}...\"\u001b[0m\u001b[1;33m.\u001b[0m\u001b[0mformat\u001b[0m\u001b[1;33m(\u001b[0m\u001b[0mself\u001b[0m\u001b[1;33m.\u001b[0m\u001b[0mdbname\u001b[0m\u001b[1;33m)\u001b[0m\u001b[1;33m)\u001b[0m\u001b[1;33m\u001b[0m\u001b[1;33m\u001b[0m\u001b[0m\n\u001b[1;32m---> 71\u001b[1;33m             \u001b[0mos\u001b[0m\u001b[1;33m.\u001b[0m\u001b[0mremove\u001b[0m\u001b[1;33m(\u001b[0m\u001b[0mself\u001b[0m\u001b[1;33m.\u001b[0m\u001b[0mdbname\u001b[0m\u001b[1;33m)\u001b[0m\u001b[1;33m\u001b[0m\u001b[1;33m\u001b[0m\u001b[0m\n\u001b[0m\u001b[0;32m     72\u001b[0m \u001b[1;33m\u001b[0m\u001b[0m\n\u001b[0;32m     73\u001b[0m \u001b[1;33m\u001b[0m\u001b[0m\n",
      "\u001b[1;31mTypeError\u001b[0m: remove: path should be string, bytes or os.PathLike, not NoneType"
     ]
    }
   ],
   "source": [
    "sc.quit()"
   ]
  }
 ],
 "metadata": {
  "kernelspec": {
   "display_name": "Python 3",
   "language": "python",
   "name": "python3"
  },
  "language_info": {
   "codemirror_mode": {
    "name": "ipython",
    "version": 3
   },
   "file_extension": ".py",
   "mimetype": "text/x-python",
   "name": "python",
   "nbconvert_exporter": "python",
   "pygments_lexer": "ipython3",
   "version": "3.7.7-final"
  }
 },
 "nbformat": 4,
 "nbformat_minor": 4
}
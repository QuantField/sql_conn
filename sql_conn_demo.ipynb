{
 "cells": [
  {
   "cell_type": "code",
   "execution_count": 1,
   "metadata": {},
   "outputs": [],
   "source": [
    "from sql_conn import *\n"
   ]
  },
  {
   "cell_type": "code",
   "execution_count": 2,
   "metadata": {
    "tags": []
   },
   "outputs": [
    {
     "output_type": "stream",
     "name": "stdout",
     "text": "In memory Connection established successfully\n"
    }
   ],
   "source": [
    "sc = SqlConn()"
   ]
  },
  {
   "cell_type": "code",
   "execution_count": 31,
   "metadata": {},
   "outputs": [
    {
     "output_type": "execute_result",
     "data": {
      "text/plain": "  CURRENT_TIME CURRENT_DATE    CURRENT_TIMESTAMP\n0     22:33:42   2020-09-29  2020-09-29 22:33:42",
      "text/html": "<div>\n<style scoped>\n    .dataframe tbody tr th:only-of-type {\n        vertical-align: middle;\n    }\n\n    .dataframe tbody tr th {\n        vertical-align: top;\n    }\n\n    .dataframe thead th {\n        text-align: right;\n    }\n</style>\n<table border=\"1\" class=\"dataframe\">\n  <thead>\n    <tr style=\"text-align: right;\">\n      <th></th>\n      <th>CURRENT_TIME</th>\n      <th>CURRENT_DATE</th>\n      <th>CURRENT_TIMESTAMP</th>\n    </tr>\n  </thead>\n  <tbody>\n    <tr>\n      <th>0</th>\n      <td>22:33:42</td>\n      <td>2020-09-29</td>\n      <td>2020-09-29 22:33:42</td>\n    </tr>\n  </tbody>\n</table>\n</div>"
     },
     "metadata": {},
     "execution_count": 31
    }
   ],
   "source": [
    "sc.query(\"\"\"\n",
    "        select CURRENT_TIME, CURRENT_DATE, CURRENT_TIMESTAMP\n",
    "\"\"\")"
   ]
  },
  {
   "cell_type": "code",
   "execution_count": 5,
   "metadata": {},
   "outputs": [
    {
     "output_type": "execute_result",
     "data": {
      "text/plain": "  date('2018-12-01')\n0         2018-12-01",
      "text/html": "<div>\n<style scoped>\n    .dataframe tbody tr th:only-of-type {\n        vertical-align: middle;\n    }\n\n    .dataframe tbody tr th {\n        vertical-align: top;\n    }\n\n    .dataframe thead th {\n        text-align: right;\n    }\n</style>\n<table border=\"1\" class=\"dataframe\">\n  <thead>\n    <tr style=\"text-align: right;\">\n      <th></th>\n      <th>date('2018-12-01')</th>\n    </tr>\n  </thead>\n  <tbody>\n    <tr>\n      <th>0</th>\n      <td>2018-12-01</td>\n    </tr>\n  </tbody>\n</table>\n</div>"
     },
     "metadata": {},
     "execution_count": 5
    }
   ],
   "source": [
    "sc.query(\"\"\"\n",
    "        select date('2018-12-01')\n",
    "\"\"\")"
   ]
  },
  {
   "cell_type": "code",
   "execution_count": 26,
   "metadata": {
    "tags": []
   },
   "outputs": [],
   "source": [
    "df = pd.read_pickle(\"data/AlleghenyCountyPropertySaleTransactions.pkl\", compression='bz2')\n"
   ]
  },
  {
   "cell_type": "code",
   "execution_count": 36,
   "metadata": {},
   "outputs": [],
   "source": [
    "sc.upload(df,\"property_sale\")\n"
   ]
  },
  {
   "cell_type": "code",
   "execution_count": 38,
   "metadata": {},
   "outputs": [
    {
     "output_type": "execute_result",
     "data": {
      "text/plain": "       PROPERTYCITY     cnt\n0        PITTSBURGH  160922\n1        CORAOPOLIS   10359\n2       MC KEESPORT    9104\n3          GIBSONIA    6698\n4         SEWICKLEY    6282\n..              ...     ...\n94         MOON TWP       1\n95  N VERSAILLES          1\n96        WEST VIEW       1\n97        WHITE OAK       1\n98          WITAKER       1\n\n[99 rows x 2 columns]",
      "text/html": "<div>\n<style scoped>\n    .dataframe tbody tr th:only-of-type {\n        vertical-align: middle;\n    }\n\n    .dataframe tbody tr th {\n        vertical-align: top;\n    }\n\n    .dataframe thead th {\n        text-align: right;\n    }\n</style>\n<table border=\"1\" class=\"dataframe\">\n  <thead>\n    <tr style=\"text-align: right;\">\n      <th></th>\n      <th>PROPERTYCITY</th>\n      <th>cnt</th>\n    </tr>\n  </thead>\n  <tbody>\n    <tr>\n      <th>0</th>\n      <td>PITTSBURGH</td>\n      <td>160922</td>\n    </tr>\n    <tr>\n      <th>1</th>\n      <td>CORAOPOLIS</td>\n      <td>10359</td>\n    </tr>\n    <tr>\n      <th>2</th>\n      <td>MC KEESPORT</td>\n      <td>9104</td>\n    </tr>\n    <tr>\n      <th>3</th>\n      <td>GIBSONIA</td>\n      <td>6698</td>\n    </tr>\n    <tr>\n      <th>4</th>\n      <td>SEWICKLEY</td>\n      <td>6282</td>\n    </tr>\n    <tr>\n      <th>...</th>\n      <td>...</td>\n      <td>...</td>\n    </tr>\n    <tr>\n      <th>94</th>\n      <td>MOON TWP</td>\n      <td>1</td>\n    </tr>\n    <tr>\n      <th>95</th>\n      <td>N VERSAILLES</td>\n      <td>1</td>\n    </tr>\n    <tr>\n      <th>96</th>\n      <td>WEST VIEW</td>\n      <td>1</td>\n    </tr>\n    <tr>\n      <th>97</th>\n      <td>WHITE OAK</td>\n      <td>1</td>\n    </tr>\n    <tr>\n      <th>98</th>\n      <td>WITAKER</td>\n      <td>1</td>\n    </tr>\n  </tbody>\n</table>\n<p>99 rows × 2 columns</p>\n</div>"
     },
     "metadata": {},
     "execution_count": 38
    }
   ],
   "source": [
    "sc.query(\"\"\"\n",
    "          select * from \n",
    "          (select PROPERTYCITY, count(*) as cnt from property_sale  group by 1 )\n",
    "          order by cnt desc          \n",
    "         \"\"\")"
   ]
  },
  {
   "cell_type": "code",
   "execution_count": 39,
   "metadata": {
    "tags": []
   },
   "outputs": [
    {
     "output_type": "stream",
     "name": "stdout",
     "text": "database connection successfully closed\n"
    }
   ],
   "source": [
    "sc.quit()"
   ]
  }
 ],
 "metadata": {
  "kernelspec": {
   "display_name": "Python 3",
   "language": "python",
   "name": "python3"
  },
  "language_info": {
   "codemirror_mode": {
    "name": "ipython",
    "version": 3
   },
   "file_extension": ".py",
   "mimetype": "text/x-python",
   "name": "python",
   "nbconvert_exporter": "python",
   "pygments_lexer": "ipython3",
   "version": "3.7.7-final"
  }
 },
 "nbformat": 4,
 "nbformat_minor": 4
}
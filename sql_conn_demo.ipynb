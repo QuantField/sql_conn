{
 "cells": [
  {
   "cell_type": "code",
   "execution_count": 1,
   "metadata": {},
   "outputs": [],
   "source": [
    "from sql_conn import *"
   ]
  },
  {
   "source": [
    "## Establishing sqlite connection\n",
    "if no database name is specified the default is 'in memory'"
   ],
   "cell_type": "markdown",
   "metadata": {}
  },
  {
   "cell_type": "code",
   "execution_count": 2,
   "metadata": {
    "tags": []
   },
   "outputs": [
    {
     "output_type": "stream",
     "name": "stdout",
     "text": "In memory Connection established successfully\n"
    }
   ],
   "source": [
    "sc = SqlConn()"
   ]
  },
  {
   "cell_type": "code",
   "execution_count": 3,
   "metadata": {},
   "outputs": [
    {
     "output_type": "execute_result",
     "data": {
      "text/plain": "  CURRENT_TIME CURRENT_DATE    CURRENT_TIMESTAMP\n0     20:34:13   2020-10-04  2020-10-04 20:34:13",
      "text/html": "<div>\n<style scoped>\n    .dataframe tbody tr th:only-of-type {\n        vertical-align: middle;\n    }\n\n    .dataframe tbody tr th {\n        vertical-align: top;\n    }\n\n    .dataframe thead th {\n        text-align: right;\n    }\n</style>\n<table border=\"1\" class=\"dataframe\">\n  <thead>\n    <tr style=\"text-align: right;\">\n      <th></th>\n      <th>CURRENT_TIME</th>\n      <th>CURRENT_DATE</th>\n      <th>CURRENT_TIMESTAMP</th>\n    </tr>\n  </thead>\n  <tbody>\n    <tr>\n      <th>0</th>\n      <td>20:34:13</td>\n      <td>2020-10-04</td>\n      <td>2020-10-04 20:34:13</td>\n    </tr>\n  </tbody>\n</table>\n</div>"
     },
     "metadata": {},
     "execution_count": 3
    }
   ],
   "source": [
    "sc.query(\"\"\"\n",
    "        select CURRENT_TIME, CURRENT_DATE, CURRENT_TIMESTAMP\n",
    "\"\"\")"
   ]
  },
  {
   "cell_type": "code",
   "execution_count": 4,
   "metadata": {},
   "outputs": [
    {
     "output_type": "execute_result",
     "data": {
      "text/plain": "  date(&#39;2018-12-01&#39;)\n0         2018-12-01",
      "text/html": "<div>\n<style scoped>\n    .dataframe tbody tr th:only-of-type {\n        vertical-align: middle;\n    }\n\n    .dataframe tbody tr th {\n        vertical-align: top;\n    }\n\n    .dataframe thead th {\n        text-align: right;\n    }\n</style>\n<table border=\"1\" class=\"dataframe\">\n  <thead>\n    <tr style=\"text-align: right;\">\n      <th></th>\n      <th>date('2018-12-01')</th>\n    </tr>\n  </thead>\n  <tbody>\n    <tr>\n      <th>0</th>\n      <td>2018-12-01</td>\n    </tr>\n  </tbody>\n</table>\n</div>"
     },
     "metadata": {},
     "execution_count": 4
    }
   ],
   "source": [
    "sc.query(\"\"\"\n",
    "        select date('2018-12-01')\n",
    "\"\"\")"
   ]
  },
  {
   "cell_type": "code",
   "execution_count": 5,
   "metadata": {
    "tags": []
   },
   "outputs": [],
   "source": [
    "df = pd.read_pickle(\"data/AlleghenyCountyPropertySaleTransactions.pkl\", compression='bz2')\n"
   ]
  },
  {
   "source": [
    "## Uploading a Panda Dataframe to a table"
   ],
   "cell_type": "markdown",
   "metadata": {}
  },
  {
   "cell_type": "code",
   "execution_count": 6,
   "metadata": {
    "tags": []
   },
   "outputs": [
    {
     "output_type": "stream",
     "name": "stdout",
     "text": "Upload succsessful\n"
    }
   ],
   "source": [
    "sc.upload(df,\"property_sale\")\n"
   ]
  },
  {
   "source": [
    "## Running queries"
   ],
   "cell_type": "markdown",
   "metadata": {}
  },
  {
   "cell_type": "code",
   "execution_count": 7,
   "metadata": {},
   "outputs": [
    {
     "output_type": "execute_result",
     "data": {
      "text/plain": "    PROPERTYCITY     CNT\n0     PITTSBURGH  160922\n1     CORAOPOLIS   10359\n2    MC KEESPORT    9104\n3       GIBSONIA    6698\n4      SEWICKLEY    6282\n5  MC KEES ROCKS    6131\n6        WEXFORD    6056\n7    BETHEL PARK    5849\n8    MONROEVILLE    5428\n9       CARNEGIE    5209",
      "text/html": "<div>\n<style scoped>\n    .dataframe tbody tr th:only-of-type {\n        vertical-align: middle;\n    }\n\n    .dataframe tbody tr th {\n        vertical-align: top;\n    }\n\n    .dataframe thead th {\n        text-align: right;\n    }\n</style>\n<table border=\"1\" class=\"dataframe\">\n  <thead>\n    <tr style=\"text-align: right;\">\n      <th></th>\n      <th>PROPERTYCITY</th>\n      <th>CNT</th>\n    </tr>\n  </thead>\n  <tbody>\n    <tr>\n      <th>0</th>\n      <td>PITTSBURGH</td>\n      <td>160922</td>\n    </tr>\n    <tr>\n      <th>1</th>\n      <td>CORAOPOLIS</td>\n      <td>10359</td>\n    </tr>\n    <tr>\n      <th>2</th>\n      <td>MC KEESPORT</td>\n      <td>9104</td>\n    </tr>\n    <tr>\n      <th>3</th>\n      <td>GIBSONIA</td>\n      <td>6698</td>\n    </tr>\n    <tr>\n      <th>4</th>\n      <td>SEWICKLEY</td>\n      <td>6282</td>\n    </tr>\n    <tr>\n      <th>5</th>\n      <td>MC KEES ROCKS</td>\n      <td>6131</td>\n    </tr>\n    <tr>\n      <th>6</th>\n      <td>WEXFORD</td>\n      <td>6056</td>\n    </tr>\n    <tr>\n      <th>7</th>\n      <td>BETHEL PARK</td>\n      <td>5849</td>\n    </tr>\n    <tr>\n      <th>8</th>\n      <td>MONROEVILLE</td>\n      <td>5428</td>\n    </tr>\n    <tr>\n      <th>9</th>\n      <td>CARNEGIE</td>\n      <td>5209</td>\n    </tr>\n  </tbody>\n</table>\n</div>"
     },
     "metadata": {},
     "execution_count": 7
    }
   ],
   "source": [
    "sc.query(\"\"\"\n",
    "        select * from \n",
    "        (select PROPERTYCITY, count(*) as CNT from property_sale  group by 1 )\n",
    "        order by cnt desc          \n",
    "        limit 10\n",
    "        \"\"\")"
   ]
  },
  {
   "cell_type": "code",
   "execution_count": 8,
   "metadata": {},
   "outputs": [],
   "source": [
    "sc.query(\" drop table if exists sales_counts\")\n",
    "sc.query(\"\"\" create table sales_counts as \n",
    "        select * from \n",
    "        (select PROPERTYCITY, count(*) as CNT from property_sale  group by 1 )\n",
    "        order by CNT desc          \n",
    "        \"\"\")"
   ]
  },
  {
   "source": [
    "## Saving to csv"
   ],
   "cell_type": "markdown",
   "metadata": {}
  },
  {
   "cell_type": "code",
   "execution_count": 9,
   "metadata": {},
   "outputs": [
    {
     "output_type": "error",
     "ename": "TypeError",
     "evalue": "to_csv() got an unexpected keyword argument &#39;csv_file_name&#39;",
     "traceback": [
      "\u001b[1;31m---------------------------------------------------------------------------\u001b[0m",
      "\u001b[1;31mTypeError\u001b[0m                                 Traceback (most recent call last)",
      "\u001b[1;32m&lt;ipython-input-9-f6aefee84f01&gt;\u001b[0m in \u001b[0;36m&lt;module&gt;\u001b[1;34m\u001b[0m\n\u001b[1;32m----&gt; 1\u001b[1;33m \u001b[0msc\u001b[0m\u001b[1;33m.\u001b[0m\u001b[0mto_csv\u001b[0m\u001b[1;33m(\u001b[0m \u001b[0mtable_name\u001b[0m\u001b[1;33m=\u001b[0m\u001b[1;34m&#39;sales_counts&#39;\u001b[0m\u001b[1;33m,\u001b[0m \u001b[0mcsv_file_name\u001b[0m\u001b[1;33m=\u001b[0m\u001b[1;34m&#39;data/sales.csv&#39;\u001b[0m\u001b[1;33m)\u001b[0m\u001b[1;33m\u001b[0m\u001b[1;33m\u001b[0m\u001b[0m\n\u001b[0m",
      "\u001b[1;31mTypeError\u001b[0m: to_csv() got an unexpected keyword argument &#39;csv_file_name&#39;"
     ]
    }
   ],
   "source": [
    "sc.to_csv( table_name='sales_counts', csv_file_name='data/sales.csv')"
   ]
  },
  {
   "source": [
    "## Reading from a csv and storing in a table"
   ],
   "cell_type": "markdown",
   "metadata": {}
  },
  {
   "cell_type": "code",
   "execution_count": 18,
   "metadata": {
    "tags": []
   },
   "outputs": [
    {
     "output_type": "stream",
     "name": "stdout",
     "text": "Upload succsessful\n"
    }
   ],
   "source": [
    "sc.upload_csv(file_name='data/sales.csv', table_name='sales')"
   ]
  },
  {
   "cell_type": "code",
   "execution_count": 19,
   "metadata": {},
   "outputs": [
    {
     "output_type": "execute_result",
     "data": {
      "text/plain": "  PROPERTYCITY     CNT\n0   PITTSBURGH  160922\n1   CORAOPOLIS   10359\n2  MC KEESPORT    9104\n3     GIBSONIA    6698\n4    SEWICKLEY    6282",
      "text/html": "<div>\n<style scoped>\n    .dataframe tbody tr th:only-of-type {\n        vertical-align: middle;\n    }\n\n    .dataframe tbody tr th {\n        vertical-align: top;\n    }\n\n    .dataframe thead th {\n        text-align: right;\n    }\n</style>\n<table border=\"1\" class=\"dataframe\">\n  <thead>\n    <tr style=\"text-align: right;\">\n      <th></th>\n      <th>PROPERTYCITY</th>\n      <th>CNT</th>\n    </tr>\n  </thead>\n  <tbody>\n    <tr>\n      <th>0</th>\n      <td>PITTSBURGH</td>\n      <td>160922</td>\n    </tr>\n    <tr>\n      <th>1</th>\n      <td>CORAOPOLIS</td>\n      <td>10359</td>\n    </tr>\n    <tr>\n      <th>2</th>\n      <td>MC KEESPORT</td>\n      <td>9104</td>\n    </tr>\n    <tr>\n      <th>3</th>\n      <td>GIBSONIA</td>\n      <td>6698</td>\n    </tr>\n    <tr>\n      <th>4</th>\n      <td>SEWICKLEY</td>\n      <td>6282</td>\n    </tr>\n  </tbody>\n</table>\n</div>"
     },
     "metadata": {},
     "execution_count": 19
    }
   ],
   "source": [
    "sc.query(\"select * from sales limit 5\")"
   ]
  },
  {
   "cell_type": "code",
   "execution_count": 20,
   "metadata": {
    "tags": []
   },
   "outputs": [
    {
     "output_type": "stream",
     "name": "stdout",
     "text": "database connection successfully closed\n"
    }
   ],
   "source": [
    "sc.quit()"
   ]
  }
 ],
 "metadata": {
  "kernelspec": {
   "display_name": "Python 3",
   "language": "python",
   "name": "python3"
  },
  "language_info": {
   "codemirror_mode": {
    "name": "ipython",
    "version": 3
   },
   "file_extension": ".py",
   "mimetype": "text/x-python",
   "name": "python",
   "nbconvert_exporter": "python",
   "pygments_lexer": "ipython3",
   "version": "3.7.7-final"
  }
 },
 "nbformat": 4,
 "nbformat_minor": 4
}
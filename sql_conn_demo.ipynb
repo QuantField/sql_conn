{
 "cells": [
  {
   "cell_type": "code",
   "execution_count": 1,
   "metadata": {},
   "outputs": [],
   "source": [
    "from sql_conn import *\n",
    "import pandas as pd\n"
   ]
  },
  {
   "cell_type": "code",
   "execution_count": 2,
   "metadata": {
    "tags": []
   },
   "outputs": [
    {
     "output_type": "stream",
     "name": "stdout",
     "text": "creating database mylocalDB.db...\n"
    }
   ],
   "source": [
    "sc = SqlConn()"
   ]
  },
  {
   "cell_type": "code",
   "execution_count": 3,
   "metadata": {},
   "outputs": [
    {
     "output_type": "execute_result",
     "data": {
      "text/plain": "  CURRENT_TIME CURRENT_DATE    CURRENT_TIMESTAMP\n0     21:23:49   2020-09-27  2020-09-27 21:23:49",
      "text/html": "<div>\n<style scoped>\n    .dataframe tbody tr th:only-of-type {\n        vertical-align: middle;\n    }\n\n    .dataframe tbody tr th {\n        vertical-align: top;\n    }\n\n    .dataframe thead th {\n        text-align: right;\n    }\n</style>\n<table border=\"1\" class=\"dataframe\">\n  <thead>\n    <tr style=\"text-align: right;\">\n      <th></th>\n      <th>CURRENT_TIME</th>\n      <th>CURRENT_DATE</th>\n      <th>CURRENT_TIMESTAMP</th>\n    </tr>\n  </thead>\n  <tbody>\n    <tr>\n      <th>0</th>\n      <td>21:23:49</td>\n      <td>2020-09-27</td>\n      <td>2020-09-27 21:23:49</td>\n    </tr>\n  </tbody>\n</table>\n</div>"
     },
     "metadata": {},
     "execution_count": 3
    }
   ],
   "source": [
    "sc.query(\"\"\"\n",
    "        select CURRENT_TIME, CURRENT_DATE, CURRENT_TIMESTAMP\n",
    "\"\"\")"
   ]
  },
  {
   "cell_type": "code",
   "execution_count": 4,
   "metadata": {},
   "outputs": [
    {
     "output_type": "execute_result",
     "data": {
      "text/plain": "  date('2018-12-01')\n0         2018-12-01",
      "text/html": "<div>\n<style scoped>\n    .dataframe tbody tr th:only-of-type {\n        vertical-align: middle;\n    }\n\n    .dataframe tbody tr th {\n        vertical-align: top;\n    }\n\n    .dataframe thead th {\n        text-align: right;\n    }\n</style>\n<table border=\"1\" class=\"dataframe\">\n  <thead>\n    <tr style=\"text-align: right;\">\n      <th></th>\n      <th>date('2018-12-01')</th>\n    </tr>\n  </thead>\n  <tbody>\n    <tr>\n      <th>0</th>\n      <td>2018-12-01</td>\n    </tr>\n  </tbody>\n</table>\n</div>"
     },
     "metadata": {},
     "execution_count": 4
    }
   ],
   "source": [
    "sc.query(\"\"\"\n",
    "        select date('2018-12-01')\n",
    "\"\"\")"
   ]
  },
  {
   "cell_type": "code",
   "execution_count": 6,
   "metadata": {},
   "outputs": [],
   "source": [
    "cols=  ['rule' , 'attribute' ]\n",
    "data = [\n",
    "['rule5',  'attri5'],\n",
    "['rule2',  'attri1'],\n",
    "['rule1',  'attri1'],\n",
    "['rule1',  'attri2'],\n",
    "['rule2',  'attri2'],\n",
    "['rule1',  'attri1'],\n",
    "['rule3',  'attri3'],\n",
    "['rule2',  'attri1'],\n",
    "['rule1',  'attri1']\n",
    "]\n",
    "df = pd.DataFrame(data, columns=cols)\n"
   ]
  },
  {
   "cell_type": "code",
   "execution_count": 7,
   "metadata": {},
   "outputs": [],
   "source": [
    "sc.upload(df, \"tabx\")"
   ]
  },
  {
   "cell_type": "code",
   "execution_count": 8,
   "metadata": {},
   "outputs": [
    {
     "output_type": "execute_result",
     "data": {
      "text/plain": "    rule attribute\n0  rule5    attri5\n1  rule2    attri1\n2  rule1    attri1\n3  rule1    attri2\n4  rule2    attri2\n5  rule1    attri1\n6  rule3    attri3\n7  rule2    attri1\n8  rule1    attri1",
      "text/html": "<div>\n<style scoped>\n    .dataframe tbody tr th:only-of-type {\n        vertical-align: middle;\n    }\n\n    .dataframe tbody tr th {\n        vertical-align: top;\n    }\n\n    .dataframe thead th {\n        text-align: right;\n    }\n</style>\n<table border=\"1\" class=\"dataframe\">\n  <thead>\n    <tr style=\"text-align: right;\">\n      <th></th>\n      <th>rule</th>\n      <th>attribute</th>\n    </tr>\n  </thead>\n  <tbody>\n    <tr>\n      <th>0</th>\n      <td>rule5</td>\n      <td>attri5</td>\n    </tr>\n    <tr>\n      <th>1</th>\n      <td>rule2</td>\n      <td>attri1</td>\n    </tr>\n    <tr>\n      <th>2</th>\n      <td>rule1</td>\n      <td>attri1</td>\n    </tr>\n    <tr>\n      <th>3</th>\n      <td>rule1</td>\n      <td>attri2</td>\n    </tr>\n    <tr>\n      <th>4</th>\n      <td>rule2</td>\n      <td>attri2</td>\n    </tr>\n    <tr>\n      <th>5</th>\n      <td>rule1</td>\n      <td>attri1</td>\n    </tr>\n    <tr>\n      <th>6</th>\n      <td>rule3</td>\n      <td>attri3</td>\n    </tr>\n    <tr>\n      <th>7</th>\n      <td>rule2</td>\n      <td>attri1</td>\n    </tr>\n    <tr>\n      <th>8</th>\n      <td>rule1</td>\n      <td>attri1</td>\n    </tr>\n  </tbody>\n</table>\n</div>"
     },
     "metadata": {},
     "execution_count": 8
    }
   ],
   "source": [
    "sc.query(\"select * from tabx\")"
   ]
  },
  {
   "cell_type": "code",
   "execution_count": 9,
   "metadata": {},
   "outputs": [
    {
     "output_type": "execute_result",
     "data": {
      "text/plain": "    rule attribute  rule_count\n0  rule1    attri1           1\n1  rule1    attri1           2\n2  rule1    attri1           3\n3  rule1    attri2           4\n4  rule2    attri1           1\n5  rule2    attri1           2\n6  rule2    attri2           3\n7  rule3    attri3           1\n8  rule5    attri5           1",
      "text/html": "<div>\n<style scoped>\n    .dataframe tbody tr th:only-of-type {\n        vertical-align: middle;\n    }\n\n    .dataframe tbody tr th {\n        vertical-align: top;\n    }\n\n    .dataframe thead th {\n        text-align: right;\n    }\n</style>\n<table border=\"1\" class=\"dataframe\">\n  <thead>\n    <tr style=\"text-align: right;\">\n      <th></th>\n      <th>rule</th>\n      <th>attribute</th>\n      <th>rule_count</th>\n    </tr>\n  </thead>\n  <tbody>\n    <tr>\n      <th>0</th>\n      <td>rule1</td>\n      <td>attri1</td>\n      <td>1</td>\n    </tr>\n    <tr>\n      <th>1</th>\n      <td>rule1</td>\n      <td>attri1</td>\n      <td>2</td>\n    </tr>\n    <tr>\n      <th>2</th>\n      <td>rule1</td>\n      <td>attri1</td>\n      <td>3</td>\n    </tr>\n    <tr>\n      <th>3</th>\n      <td>rule1</td>\n      <td>attri2</td>\n      <td>4</td>\n    </tr>\n    <tr>\n      <th>4</th>\n      <td>rule2</td>\n      <td>attri1</td>\n      <td>1</td>\n    </tr>\n    <tr>\n      <th>5</th>\n      <td>rule2</td>\n      <td>attri1</td>\n      <td>2</td>\n    </tr>\n    <tr>\n      <th>6</th>\n      <td>rule2</td>\n      <td>attri2</td>\n      <td>3</td>\n    </tr>\n    <tr>\n      <th>7</th>\n      <td>rule3</td>\n      <td>attri3</td>\n      <td>1</td>\n    </tr>\n    <tr>\n      <th>8</th>\n      <td>rule5</td>\n      <td>attri5</td>\n      <td>1</td>\n    </tr>\n  </tbody>\n</table>\n</div>"
     },
     "metadata": {},
     "execution_count": 9
    }
   ],
   "source": [
    "sc.query(\"\"\"\n",
    "        select           \n",
    "          *,\n",
    "          ROW_NUMBER () OVER ( \n",
    "          PARTITION BY rule\n",
    "          order by rule, attribute\n",
    "         )  as  rule_count          \n",
    "         \n",
    "        from tabx     \n",
    "\"\"\")          \n"
   ]
  },
  {
   "cell_type": "code",
   "execution_count": 10,
   "metadata": {},
   "outputs": [
    {
     "output_type": "execute_result",
     "data": {
      "text/plain": "    rule attribute  rule_count\n0  rule1    attri1           1\n1  rule2    attri1           1\n2  rule3    attri3           1\n3  rule5    attri5           1",
      "text/html": "<div>\n<style scoped>\n    .dataframe tbody tr th:only-of-type {\n        vertical-align: middle;\n    }\n\n    .dataframe tbody tr th {\n        vertical-align: top;\n    }\n\n    .dataframe thead th {\n        text-align: right;\n    }\n</style>\n<table border=\"1\" class=\"dataframe\">\n  <thead>\n    <tr style=\"text-align: right;\">\n      <th></th>\n      <th>rule</th>\n      <th>attribute</th>\n      <th>rule_count</th>\n    </tr>\n  </thead>\n  <tbody>\n    <tr>\n      <th>0</th>\n      <td>rule1</td>\n      <td>attri1</td>\n      <td>1</td>\n    </tr>\n    <tr>\n      <th>1</th>\n      <td>rule2</td>\n      <td>attri1</td>\n      <td>1</td>\n    </tr>\n    <tr>\n      <th>2</th>\n      <td>rule3</td>\n      <td>attri3</td>\n      <td>1</td>\n    </tr>\n    <tr>\n      <th>3</th>\n      <td>rule5</td>\n      <td>attri5</td>\n      <td>1</td>\n    </tr>\n  </tbody>\n</table>\n</div>"
     },
     "metadata": {},
     "execution_count": 10
    }
   ],
   "source": [
    "sc.query(\"\"\"\n",
    "\n",
    "      select * from\n",
    "      (\n",
    "        select           \n",
    "          *,\n",
    "          ROW_NUMBER () OVER ( \n",
    "          PARTITION BY rule\n",
    "          order by rule, attribute\n",
    "         )  as  rule_count          \n",
    "         \n",
    "        from tabx     \n",
    "      )\n",
    "      where rule_count=1\n",
    "\"\"\")          \n"
   ]
  },
  {
   "cell_type": "code",
   "execution_count": 11,
   "metadata": {
    "tags": []
   },
   "outputs": [
    {
     "output_type": "stream",
     "name": "stdout",
     "text": "database connection successfully closed\ndeleting databse mylocalDB.db...\n"
    }
   ],
   "source": [
    "sc.quit()"
   ]
  }
 ],
 "metadata": {
  "kernelspec": {
   "display_name": "Python 3",
   "language": "python",
   "name": "python3"
  },
  "language_info": {
   "codemirror_mode": {
    "name": "ipython",
    "version": 3
   },
   "file_extension": ".py",
   "mimetype": "text/x-python",
   "name": "python",
   "nbconvert_exporter": "python",
   "pygments_lexer": "ipython3",
   "version": "3.7.7-final"
  }
 },
 "nbformat": 4,
 "nbformat_minor": 4
}